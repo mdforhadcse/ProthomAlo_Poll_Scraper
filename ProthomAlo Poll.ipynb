{
 "cells": [
  {
   "cell_type": "code",
   "execution_count": 1,
   "id": "d7408a3a",
   "metadata": {},
   "outputs": [],
   "source": [
    "import undetected_chromedriver as webdriver\n",
    "from selenium.webdriver.common.keys import Keys\n",
    "from selenium.webdriver.support import expected_conditions as EC\n",
    "from selenium.webdriver.common.by import By\n",
    "from selenium.webdriver.support.wait import WebDriverWait\n",
    "import time\n",
    "import csv\n",
    "from bs4 import BeautifulSoup\n",
    "import pandas as pd"
   ]
  },
  {
   "cell_type": "code",
   "execution_count": 2,
   "id": "b8c1f31f",
   "metadata": {},
   "outputs": [],
   "source": [
    "driver = webdriver.Chrome()\n",
    "url = 'https://www.prothomalo.com/poll'\n",
    "driver.get(url)"
   ]
  },
  {
   "cell_type": "code",
   "execution_count": 3,
   "id": "4227edba",
   "metadata": {},
   "outputs": [],
   "source": [
    "load_more = WebDriverWait(driver, 15).until(EC.element_to_be_clickable((By.XPATH, '//*[@id=\"container\"]/div/div[2]/div/div/div[4]/div')))\n",
    "html = driver.find_element(By.TAG_NAME, 'html')"
   ]
  },
  {
   "cell_type": "code",
   "execution_count": 4,
   "id": "5ba5502d",
   "metadata": {},
   "outputs": [],
   "source": [
    "for i in range(10):\n",
    "    time.sleep(3)\n",
    "    html.send_keys(Keys.END)\n",
    "    time.sleep(3)\n",
    "    load_more.click()\n",
    "    time.sleep(3)"
   ]
  },
  {
   "cell_type": "code",
   "execution_count": 5,
   "id": "f41cb411",
   "metadata": {},
   "outputs": [],
   "source": [
    "# results = driver.find_elements(By.CLASS_NAME, 'q-WQG')"
   ]
  },
  {
   "cell_type": "code",
   "execution_count": 6,
   "id": "f3679d44",
   "metadata": {},
   "outputs": [],
   "source": [
    "# soup = BeautifulSoup(driver.page_source, 'html.parser')\n",
    "# results = soup.find_all('div', attrs={'class':'q-WQG'})\n",
    "# len(results)"
   ]
  },
  {
   "cell_type": "code",
   "execution_count": 7,
   "id": "12d39099",
   "metadata": {},
   "outputs": [],
   "source": [
    "# print(results[0])"
   ]
  },
  {
   "cell_type": "code",
   "execution_count": 8,
   "id": "465db496",
   "metadata": {},
   "outputs": [],
   "source": [
    "# results[0].find('span').text"
   ]
  },
  {
   "cell_type": "code",
   "execution_count": 9,
   "id": "44e3fe44",
   "metadata": {},
   "outputs": [],
   "source": [
    "# title = results[0].find('h3').text.strip()\n",
    "# title"
   ]
  },
  {
   "cell_type": "code",
   "execution_count": 10,
   "id": "421c0b55",
   "metadata": {},
   "outputs": [],
   "source": [
    "# total_vote = results[0].find(\"div\", class_=\"i8mss\").text.strip()\n",
    "# print(total_vote)\n"
   ]
  },
  {
   "cell_type": "code",
   "execution_count": 11,
   "id": "c24c4c36",
   "metadata": {},
   "outputs": [],
   "source": [
    "# yes_total = (results[0].find_all(\"div\", class_=\"je0fN\"))[0].text.strip()\n",
    "# print(yes_total)"
   ]
  },
  {
   "cell_type": "code",
   "execution_count": 12,
   "id": "b6b2fc70",
   "metadata": {},
   "outputs": [],
   "source": [
    "# no_total = (results[0].find_all(\"div\", class_=\"je0fN\"))[1].text.strip()\n",
    "# print(no_total)"
   ]
  },
  {
   "cell_type": "code",
   "execution_count": 13,
   "id": "c8b0a7f0",
   "metadata": {},
   "outputs": [],
   "source": [
    "# no_comment_total = (results[0].find_all(\"div\", class_=\"je0fN\"))[2].text.strip()\n",
    "# print(no_comment_total)"
   ]
  },
  {
   "cell_type": "code",
   "execution_count": 14,
   "id": "be00b762",
   "metadata": {},
   "outputs": [],
   "source": [
    "# yes_percent = results[0].find_all(\"div\", class_=\"ZGGby\")[0].text.strip()\n",
    "# print(yes_percent)"
   ]
  },
  {
   "cell_type": "code",
   "execution_count": 15,
   "id": "ce362e55",
   "metadata": {},
   "outputs": [],
   "source": [
    "# no_percent = results[0].find_all(\"div\", class_=\"ZGGby\")[1].text.strip()\n",
    "# print(no_percent)"
   ]
  },
  {
   "cell_type": "code",
   "execution_count": 16,
   "id": "d4690c61",
   "metadata": {},
   "outputs": [],
   "source": [
    "# no_comment_percent = results[0].find_all(\"div\", class_=\"ZGGby\")[2].text.strip()\n",
    "# print(no_comment_percent)"
   ]
  },
  {
   "cell_type": "code",
   "execution_count": 32,
   "id": "87aee553",
   "metadata": {},
   "outputs": [],
   "source": [
    "def extract_record(item):\n",
    "    \"\"\"Extract and return data into single record\"\"\"\n",
    "    date = item.find('span').text\n",
    "    title = item.find('h3').text.strip()\n",
    "    total_vote = item.find(\"div\", class_=\"i8mss\").text.strip()\n",
    "    yes_total = (item.find_all(\"div\", class_=\"je0fN\"))[0].text.strip()\n",
    "    yes_percent = item.find_all(\"div\", class_=\"ZGGby\")[0].text.strip()\n",
    "    no_total = (item.find_all(\"div\", class_=\"je0fN\"))[1].text.strip()\n",
    "    no_percent = item.find_all(\"div\", class_=\"ZGGby\")[1].text.strip()\n",
    "    no_comment_total = (item.find_all(\"div\", class_=\"je0fN\"))[2].text.strip()\n",
    "    no_comment_percent = item.find_all(\"div\", class_=\"ZGGby\")[2].text.strip()\n",
    "    result = (date, title, total_vote, yes_total, yes_percent, no_total, no_percent, no_comment_total, no_comment_percent)\n",
    "    return result"
   ]
  },
  {
   "cell_type": "code",
   "execution_count": 33,
   "id": "5de2d001",
   "metadata": {},
   "outputs": [],
   "source": [
    "records = []\n",
    "soup = BeautifulSoup(driver.page_source, 'html.parser')\n",
    "results = soup.find_all('div', attrs={'class':'q-WQG'})\n",
    "\n",
    "for item in results:\n",
    "    records.append(extract_record(item))"
   ]
  },
  {
   "cell_type": "code",
   "execution_count": 34,
   "id": "d570d328",
   "metadata": {},
   "outputs": [
    {
     "data": {
      "text/html": [
       "<div>\n",
       "<style scoped>\n",
       "    .dataframe tbody tr th:only-of-type {\n",
       "        vertical-align: middle;\n",
       "    }\n",
       "\n",
       "    .dataframe tbody tr th {\n",
       "        vertical-align: top;\n",
       "    }\n",
       "\n",
       "    .dataframe thead th {\n",
       "        text-align: right;\n",
       "    }\n",
       "</style>\n",
       "<table border=\"1\" class=\"dataframe\">\n",
       "  <thead>\n",
       "    <tr style=\"text-align: right;\">\n",
       "      <th></th>\n",
       "      <th>Date</th>\n",
       "      <th>Poll</th>\n",
       "      <th>Total voter</th>\n",
       "      <th>Yes</th>\n",
       "      <th>Yes(percent)</th>\n",
       "      <th>No</th>\n",
       "      <th>No(percent)</th>\n",
       "      <th>No comment</th>\n",
       "      <th>No comment(percent)</th>\n",
       "    </tr>\n",
       "  </thead>\n",
       "  <tbody>\n",
       "    <tr>\n",
       "      <th>0</th>\n",
       "      <td>৭ ডিসেম্বর ২০২২</td>\n",
       "      <td>দেশে আইনের শাসনের প্রতি সম্মান দেখাতে এবং সহিং...</td>\n",
       "      <td>ভোট দিয়েছেন ৪৬১০ জন</td>\n",
       "      <td>হ্যাঁ (৯২ জন)</td>\n",
       "      <td>২%</td>\n",
       "      <td>না (৪৪৭২ জন)</td>\n",
       "      <td>৯৭%</td>\n",
       "      <td>মন্তব্য নেই (৪৬ জন)</td>\n",
       "      <td>১%</td>\n",
       "    </tr>\n",
       "    <tr>\n",
       "      <th>1</th>\n",
       "      <td>৬ ডিসেম্বর ২০২২</td>\n",
       "      <td>দেশের ৭৫ শতাংশ মাটিতে প্রয়োজনীয় জৈব ও রাসায়নিক...</td>\n",
       "      <td>ভোট দিয়েছেন ৩১১৭ জন</td>\n",
       "      <td>হ্যাঁ (১৫৬ জন)</td>\n",
       "      <td>৫%</td>\n",
       "      <td>না (২৯৩০ জন)</td>\n",
       "      <td>৯৪%</td>\n",
       "      <td>মন্তব্য নেই (৩১ জন)</td>\n",
       "      <td>১%</td>\n",
       "    </tr>\n",
       "    <tr>\n",
       "      <th>2</th>\n",
       "      <td>৫ ডিসেম্বর ২০২২</td>\n",
       "      <td>নিত্যপণ্যের দামে স্বস্তির খবর না থাকলেও অক্টোব...</td>\n",
       "      <td>ভোট দিয়েছেন ৪৫৮১ জন</td>\n",
       "      <td>হ্যাঁ (৩২১ জন)</td>\n",
       "      <td>৭%</td>\n",
       "      <td>না (৪২১৫ জন)</td>\n",
       "      <td>৯২%</td>\n",
       "      <td>মন্তব্য নেই (৪৬ জন)</td>\n",
       "      <td>১%</td>\n",
       "    </tr>\n",
       "    <tr>\n",
       "      <th>3</th>\n",
       "      <td>৪ ডিসেম্বর ২০২২</td>\n",
       "      <td>আওয়ামী লীগ ও বিএনপির অর্থের উৎস প্রকাশ করা উচি...</td>\n",
       "      <td>ভোট দিয়েছেন ৫৪১২ জন</td>\n",
       "      <td>হ্যাঁ (৫৩০৪ জন)</td>\n",
       "      <td>৯৮%</td>\n",
       "      <td>না (৫৪ জন)</td>\n",
       "      <td>১%</td>\n",
       "      <td>মন্তব্য নেই (৫৪ জন)</td>\n",
       "      <td>১%</td>\n",
       "    </tr>\n",
       "    <tr>\n",
       "      <th>4</th>\n",
       "      <td>৩ ডিসেম্বর ২০২২</td>\n",
       "      <td>প্রবৃদ্ধি হচ্ছে, শিক্ষার হার বাড়ছে, কিন্তু দীর...</td>\n",
       "      <td>ভোট দিয়েছেন ৪৯৮৮ জন</td>\n",
       "      <td>হ্যাঁ (৪৮৩৮ জন)</td>\n",
       "      <td>৯৭%</td>\n",
       "      <td>না (১০০ জন)</td>\n",
       "      <td>২%</td>\n",
       "      <td>মন্তব্য নেই (৫০ জন)</td>\n",
       "      <td>১%</td>\n",
       "    </tr>\n",
       "    <tr>\n",
       "      <th>...</th>\n",
       "      <td>...</td>\n",
       "      <td>...</td>\n",
       "      <td>...</td>\n",
       "      <td>...</td>\n",
       "      <td>...</td>\n",
       "      <td>...</td>\n",
       "      <td>...</td>\n",
       "      <td>...</td>\n",
       "      <td>...</td>\n",
       "    </tr>\n",
       "    <tr>\n",
       "      <th>105</th>\n",
       "      <td>২০ আগস্ট ২০২২</td>\n",
       "      <td>বাচ্চাদের নতুন হাঁটতে শেখার মতো করে টি-টোয়েন্ট...</td>\n",
       "      <td>ভোট দিয়েছেন ৪৭৩৩ জন</td>\n",
       "      <td>হ্যাঁ (১৮৯৩ জন)</td>\n",
       "      <td>৪০%</td>\n",
       "      <td>না (২৭৪৫ জন)</td>\n",
       "      <td>৫৮%</td>\n",
       "      <td>মন্তব্য নেই (৯৫ জন)</td>\n",
       "      <td>২%</td>\n",
       "    </tr>\n",
       "    <tr>\n",
       "      <th>106</th>\n",
       "      <td>১৯ আগস্ট ২০২২</td>\n",
       "      <td>বর্তমানে বাজারে পাইকারি ও খুচরা দামের যে তফাত,...</td>\n",
       "      <td>ভোট দিয়েছেন ৪৮৪৩ জন</td>\n",
       "      <td>হ্যাঁ (৪৭৯৫ জন)</td>\n",
       "      <td>৯৯%</td>\n",
       "      <td>না (৪৮ জন)</td>\n",
       "      <td>১%</td>\n",
       "      <td>মন্তব্য নেই (০ জন)</td>\n",
       "      <td>০%</td>\n",
       "    </tr>\n",
       "    <tr>\n",
       "      <th>107</th>\n",
       "      <td>১৮ আগস্ট ২০২২</td>\n",
       "      <td>ভালো নম্বর–প্লেট দেওয়ার কথা বলে মোটরসাইকেলের চ...</td>\n",
       "      <td>ভোট দিয়েছেন ৪৬৬২ জন</td>\n",
       "      <td>হ্যাঁ (২৩৩ জন)</td>\n",
       "      <td>৫%</td>\n",
       "      <td>না (৪৩৮২ জন)</td>\n",
       "      <td>৯৪%</td>\n",
       "      <td>মন্তব্য নেই (৪৭ জন)</td>\n",
       "      <td>১%</td>\n",
       "    </tr>\n",
       "    <tr>\n",
       "      <th>108</th>\n",
       "      <td>১৭ আগস্ট ২০২২</td>\n",
       "      <td>বাংলাদেশে গুম ও বিচারবহির্ভূত হত্যার অভিযোগের ...</td>\n",
       "      <td>ভোট দিয়েছেন ৫৬৩৮ জন</td>\n",
       "      <td>হ্যাঁ (১৬৯ জন)</td>\n",
       "      <td>৩%</td>\n",
       "      <td>না (৫৪১২ জন)</td>\n",
       "      <td>৯৬%</td>\n",
       "      <td>মন্তব্য নেই (৫৬ জন)</td>\n",
       "      <td>১%</td>\n",
       "    </tr>\n",
       "    <tr>\n",
       "      <th>109</th>\n",
       "      <td>১৬ আগস্ট ২০২২</td>\n",
       "      <td>ঢাকার উত্তরায় প্রাইভেট কারে বিআরটি প্রকল্পের গ...</td>\n",
       "      <td>ভোট দিয়েছেন ৫৬৫৮ জন</td>\n",
       "      <td>হ্যাঁ (২২৬ জন)</td>\n",
       "      <td>৪%</td>\n",
       "      <td>না (৫৩৭৫ জন)</td>\n",
       "      <td>৯৫%</td>\n",
       "      <td>মন্তব্য নেই (৫৭ জন)</td>\n",
       "      <td>১%</td>\n",
       "    </tr>\n",
       "  </tbody>\n",
       "</table>\n",
       "<p>110 rows × 9 columns</p>\n",
       "</div>"
      ],
      "text/plain": [
       "                Date                                               Poll  \\\n",
       "0    ৭ ডিসেম্বর ২০২২  দেশে আইনের শাসনের প্রতি সম্মান দেখাতে এবং সহিং...   \n",
       "1    ৬ ডিসেম্বর ২০২২  দেশের ৭৫ শতাংশ মাটিতে প্রয়োজনীয় জৈব ও রাসায়নিক...   \n",
       "2    ৫ ডিসেম্বর ২০২২  নিত্যপণ্যের দামে স্বস্তির খবর না থাকলেও অক্টোব...   \n",
       "3    ৪ ডিসেম্বর ২০২২  আওয়ামী লীগ ও বিএনপির অর্থের উৎস প্রকাশ করা উচি...   \n",
       "4    ৩ ডিসেম্বর ২০২২  প্রবৃদ্ধি হচ্ছে, শিক্ষার হার বাড়ছে, কিন্তু দীর...   \n",
       "..               ...                                                ...   \n",
       "105    ২০ আগস্ট ২০২২  বাচ্চাদের নতুন হাঁটতে শেখার মতো করে টি-টোয়েন্ট...   \n",
       "106    ১৯ আগস্ট ২০২২  বর্তমানে বাজারে পাইকারি ও খুচরা দামের যে তফাত,...   \n",
       "107    ১৮ আগস্ট ২০২২  ভালো নম্বর–প্লেট দেওয়ার কথা বলে মোটরসাইকেলের চ...   \n",
       "108    ১৭ আগস্ট ২০২২  বাংলাদেশে গুম ও বিচারবহির্ভূত হত্যার অভিযোগের ...   \n",
       "109    ১৬ আগস্ট ২০২২  ঢাকার উত্তরায় প্রাইভেট কারে বিআরটি প্রকল্পের গ...   \n",
       "\n",
       "              Total voter              Yes Yes(percent)            No  \\\n",
       "0    ভোট দিয়েছেন ৪৬১০ জন    হ্যাঁ (৯২ জন)           ২%  না (৪৪৭২ জন)   \n",
       "1    ভোট দিয়েছেন ৩১১৭ জন   হ্যাঁ (১৫৬ জন)           ৫%  না (২৯৩০ জন)   \n",
       "2    ভোট দিয়েছেন ৪৫৮১ জন   হ্যাঁ (৩২১ জন)           ৭%  না (৪২১৫ জন)   \n",
       "3    ভোট দিয়েছেন ৫৪১২ জন  হ্যাঁ (৫৩০৪ জন)          ৯৮%    না (৫৪ জন)   \n",
       "4    ভোট দিয়েছেন ৪৯৮৮ জন  হ্যাঁ (৪৮৩৮ জন)          ৯৭%   না (১০০ জন)   \n",
       "..                    ...              ...          ...           ...   \n",
       "105  ভোট দিয়েছেন ৪৭৩৩ জন  হ্যাঁ (১৮৯৩ জন)          ৪০%  না (২৭৪৫ জন)   \n",
       "106  ভোট দিয়েছেন ৪৮৪৩ জন  হ্যাঁ (৪৭৯৫ জন)          ৯৯%    না (৪৮ জন)   \n",
       "107  ভোট দিয়েছেন ৪৬৬২ জন   হ্যাঁ (২৩৩ জন)           ৫%  না (৪৩৮২ জন)   \n",
       "108  ভোট দিয়েছেন ৫৬৩৮ জন   হ্যাঁ (১৬৯ জন)           ৩%  না (৫৪১২ জন)   \n",
       "109  ভোট দিয়েছেন ৫৬৫৮ জন   হ্যাঁ (২২৬ জন)           ৪%  না (৫৩৭৫ জন)   \n",
       "\n",
       "    No(percent)           No comment No comment(percent)  \n",
       "0           ৯৭%  মন্তব্য নেই (৪৬ জন)                  ১%  \n",
       "1           ৯৪%  মন্তব্য নেই (৩১ জন)                  ১%  \n",
       "2           ৯২%  মন্তব্য নেই (৪৬ জন)                  ১%  \n",
       "3            ১%  মন্তব্য নেই (৫৪ জন)                  ১%  \n",
       "4            ২%  মন্তব্য নেই (৫০ জন)                  ১%  \n",
       "..          ...                  ...                 ...  \n",
       "105         ৫৮%  মন্তব্য নেই (৯৫ জন)                  ২%  \n",
       "106          ১%   মন্তব্য নেই (০ জন)                  ০%  \n",
       "107         ৯৪%  মন্তব্য নেই (৪৭ জন)                  ১%  \n",
       "108         ৯৬%  মন্তব্য নেই (৫৬ জন)                  ১%  \n",
       "109         ৯৫%  মন্তব্য নেই (৫৭ জন)                  ১%  \n",
       "\n",
       "[110 rows x 9 columns]"
      ]
     },
     "execution_count": 34,
     "metadata": {},
     "output_type": "execute_result"
    }
   ],
   "source": [
    "dfM = pd.DataFrame(records, columns=['Date', 'Poll', 'Total voter', 'Yes', 'Yes(percent)', 'No', 'No(percent)', 'No comment', 'No comment(percent)'])\n",
    "dfM"
   ]
  },
  {
   "cell_type": "code",
   "execution_count": 35,
   "id": "44accb3d",
   "metadata": {},
   "outputs": [],
   "source": [
    "dfM.to_csv('ProthomAlo_Poll.csv')"
   ]
  },
  {
   "cell_type": "code",
   "execution_count": null,
   "id": "52bb13c6",
   "metadata": {},
   "outputs": [],
   "source": []
  },
  {
   "cell_type": "code",
   "execution_count": null,
   "id": "d7db00aa",
   "metadata": {},
   "outputs": [],
   "source": []
  },
  {
   "cell_type": "code",
   "execution_count": null,
   "id": "3bc93f63",
   "metadata": {},
   "outputs": [],
   "source": []
  }
 ],
 "metadata": {
  "kernelspec": {
   "display_name": "Python 3 (ipykernel)",
   "language": "python",
   "name": "python3"
  },
  "language_info": {
   "codemirror_mode": {
    "name": "ipython",
    "version": 3
   },
   "file_extension": ".py",
   "mimetype": "text/x-python",
   "name": "python",
   "nbconvert_exporter": "python",
   "pygments_lexer": "ipython3",
   "version": "3.9.7"
  }
 },
 "nbformat": 4,
 "nbformat_minor": 5
}
